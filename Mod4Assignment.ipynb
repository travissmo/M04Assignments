{
 "cells": [
  {
   "cell_type": "code",
   "execution_count": 23,
   "id": "615dda41-c5fa-4bd0-a39d-5a9daa0a6a2a",
   "metadata": {},
   "outputs": [
    {
     "name": "stdout",
     "output_type": "stream",
     "text": [
      "Open 9-5 Daily\n"
     ]
    }
   ],
   "source": [
    "#11.1 \n",
    "import sys\n",
    "sys.path.append(r'C:\\Users\\Travis\\Documents\\.ipynb_checkpoints')\n",
    "import zoo\n",
    "zoo.hours()"
   ]
  },
  {
   "cell_type": "code",
   "execution_count": 25,
   "id": "d9dd5083-cde6-4335-8453-8df63886950f",
   "metadata": {},
   "outputs": [
    {
     "name": "stdout",
     "output_type": "stream",
     "text": [
      "Open 9-5 Daily\n"
     ]
    }
   ],
   "source": [
    "#11.2\n",
    "import sys\n",
    "sys.path.append(r'C:\\Users\\Travis\\Documents\\.ipynb_checkpoints')\n",
    "import zoo as menagerie\n",
    "zoo.hours()"
   ]
  },
  {
   "cell_type": "code",
   "execution_count": 45,
   "id": "f0a19613-d7f8-47cb-b946-7d4e6388f330",
   "metadata": {},
   "outputs": [],
   "source": [
    "#16.4,16.6,16.8\n"
   ]
  },
  {
   "cell_type": "code",
   "execution_count": null,
   "id": "254126cb-069e-4a6f-b15d-a719c81237fb",
   "metadata": {},
   "outputs": [],
   "source": []
  },
  {
   "cell_type": "code",
   "execution_count": null,
   "id": "d38c8bb8-1e2f-4ef2-b8e4-6090148181b8",
   "metadata": {},
   "outputs": [],
   "source": []
  }
 ],
 "metadata": {
  "kernelspec": {
   "display_name": "Python 3 (ipykernel)",
   "language": "python",
   "name": "python3"
  },
  "language_info": {
   "codemirror_mode": {
    "name": "ipython",
    "version": 3
   },
   "file_extension": ".py",
   "mimetype": "text/x-python",
   "name": "python",
   "nbconvert_exporter": "python",
   "pygments_lexer": "ipython3",
   "version": "3.12.4"
  }
 },
 "nbformat": 4,
 "nbformat_minor": 5
}
